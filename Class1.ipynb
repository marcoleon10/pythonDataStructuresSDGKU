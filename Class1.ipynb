{
 "cells": [
  {
   "cell_type": "code",
   "execution_count": 7,
   "id": "70570572-7d2d-48ef-8861-6998b5d899f4",
   "metadata": {},
   "outputs": [
    {
     "data": {
      "text/plain": [
       "True"
      ]
     },
     "execution_count": 7,
     "metadata": {},
     "output_type": "execute_result"
    }
   ],
   "source": [
    "\n",
    "class Stack:\n",
    "    def __init__(self):\n",
    "        self.items = []\n",
    "\n",
    "    def push(self, item):\n",
    "        self.items.append(item)\n",
    "\n",
    "    def pop(self):\n",
    "        return self.items.pop()\n",
    "\n",
    "    def peek(self):\n",
    "        return self.items[-1] if not self.is_empty() else None\n",
    "\n",
    "    def is_empty(self):\n",
    "        return len(self.items) == 0\n",
    "\n",
    "\n",
    "def check_palindrome(word1,word2): ##accidentally I made the algorithm of finding a pair of palindrome haha\n",
    "\n",
    "    if(len(word1) != len(word2)):\n",
    "        return False\n",
    "        \n",
    "    stack = Stack()\n",
    "    for c in word1:\n",
    "        if(c != \" \"):\n",
    "            stack.push(c.lower())\n",
    "\n",
    "    for c in word2:\n",
    "        if(stack.peek() != c):\n",
    "            return False\n",
    "        else:\n",
    "            stack.pop()\n",
    "    return True\n",
    "\n",
    "def check_anagram(word1, word2):\n",
    "    word1 = word1.lower().replace(\" \", \"\") #Remove all the spaces and convert everything in lowercase.\n",
    "    word2 = word2.lower().replace(\" \", \"\")\n",
    "    \n",
    "    if(len(word1) != len(word2)): #If they are not the same size, don't do the code, just return false.\n",
    "        return False\n",
    "    \n",
    "    frecuencia_word1 = {}\n",
    "    frecuencia_word2 = {}\n",
    "    \n",
    "    for c in word1:\n",
    "        frecuencia_word1[c] = frecuencia_word1.get(c, 0) + 1 #If the letter isn't in the dictionary, initialized it in zero, if it is add 1\n",
    "    \n",
    "    for c in word2:\n",
    "        frecuencia_word2[c] = frecuencia_word2.get(c, 0) + 1\n",
    "    \n",
    "    return frecuencia_word2 == frecuencia_word2\n",
    "    \n",
    "word1 = \"Tom Marvolo Riddle\"\n",
    "word2 = \"I am lord voldemort\"\n",
    "check_anagram(word1, word2)"
   ]
  },
  {
   "cell_type": "code",
   "execution_count": 14,
   "id": "13a7c56f-bcca-45fe-9952-2cff12e15dcd",
   "metadata": {},
   "outputs": [
    {
     "name": "stdout",
     "output_type": "stream",
     "text": [
      "False\n"
     ]
    }
   ],
   "source": [
    "print(check_palindrome(\"earth\",\"heart\"))"
   ]
  },
  {
   "cell_type": "code",
   "execution_count": null,
   "id": "89179d5d-e69c-45e0-b55c-d3dabc49fce5",
   "metadata": {},
   "outputs": [],
   "source": []
  }
 ],
 "metadata": {
  "kernelspec": {
   "display_name": "Python 3 (ipykernel)",
   "language": "python",
   "name": "python3"
  },
  "language_info": {
   "codemirror_mode": {
    "name": "ipython",
    "version": 3
   },
   "file_extension": ".py",
   "mimetype": "text/x-python",
   "name": "python",
   "nbconvert_exporter": "python",
   "pygments_lexer": "ipython3",
   "version": "3.10.12"
  }
 },
 "nbformat": 4,
 "nbformat_minor": 5
}
