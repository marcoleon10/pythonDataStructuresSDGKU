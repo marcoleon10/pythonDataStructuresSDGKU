{
 "cells": [
  {
   "cell_type": "code",
   "execution_count": 1,
   "id": "1f0f6838-5aa0-421d-a0ea-4e84501c4ea6",
   "metadata": {},
   "outputs": [],
   "source": [
    "# Simplified implementation of Stack (relying on built-ins):\n",
    "class Stack:\n",
    "    def __init__(self):\n",
    "        self.items = []\n",
    "\n",
    "    def push(self, item):\n",
    "        self.items.append(item)\n",
    "\n",
    "    def pop(self):\n",
    "        return self.items.pop()\n",
    "\n",
    "    def peek(self):\n",
    "        return self.items[-1] if not self.is_empty() else None\n",
    "\n",
    "    def size(self):\n",
    "        return len(self.items)\n",
    "        \n",
    "    def is_empty(self):\n",
    "        return len(self.items) == 0"
   ]
  },
  {
   "cell_type": "code",
   "execution_count": 23,
   "id": "62636cd3-0f7b-481b-af6c-5a15a8cbd456",
   "metadata": {},
   "outputs": [],
   "source": [
    "# Problem 2: Considering the reversaly property of stacks, create a function that uses the \"Stack\" class above to invert a string.\n",
    "\n",
    "'''\n",
    "Examples:\n",
    "invert_str(\"Rafael\") = should return \"leafaR\"\n",
    "invert_str(\"Star\") = should return \"ratS\"\n",
    "invert_str(\"Hello\") = should return \"olleH\"\n",
    "'''\n",
    "\n",
    "def invert_str(word):\n",
    "    stack = Stack()\n",
    "    res = \"\"\n",
    "    for c in word:\n",
    "        stack.push(c)\n",
    "\n",
    "    while(stack.peek() != None): #not empty\n",
    "        res = res + stack.pop() \n",
    "    return res\n",
    "invert_str(\"Hello\")\n"
   ]
  },
  {
   "cell_type": "code",
   "execution_count": 22,
   "id": "7fa90b51-2aa3-43a4-81dc-fc7d00965dbe",
   "metadata": {},
   "outputs": [
    {
     "data": {
      "text/plain": [
       "'olleH'"
      ]
     },
     "execution_count": 22,
     "metadata": {},
     "output_type": "execute_result"
    }
   ],
   "source": [
    "#From scratch implementation of Stack\n",
    "\n",
    "class StackII:\n",
    "    def __init__(self):\n",
    "        self.top = None\n",
    "\n",
    "    class __Node:\n",
    "        def __init__(self, data):\n",
    "            self.data = data\n",
    "            self.below = None\n",
    "            \n",
    "    def push(self, value):\n",
    "        new_node = self.__Node(value)\n",
    "        if not self.top:\n",
    "            self.top = new_node\n",
    "        else:\n",
    "            old_top = self.top\n",
    "            self.top = new_node\n",
    "            self.top.below = old_top\n",
    "            \n",
    "\n",
    "    def pop(self):\n",
    "        if self.top:\n",
    "            datum = self.top.data\n",
    "            self.top = solf.top.below\n",
    "            return datum\n",
    "        raise IndexError(\"Stack is empty\")\n",
    "        \n",
    "\n",
    "    def peek(self):\n",
    "        #This should return the data element at the topmost position (Node) without removing that node\n",
    "        pass\n",
    "        \n",
    "    def size(self):\n",
    "        #This should return the total number of Nodes in ur Stac\n",
    "        pass\n",
    "        \n",
    "    def is_empty(self):\n",
    "        return self.top == None"
   ]
  },
  {
   "cell_type": "code",
   "execution_count": null,
   "id": "55025cf1-c09e-4ecc-8bc2-b7151e0d21b5",
   "metadata": {},
   "outputs": [],
   "source": []
  }
 ],
 "metadata": {
  "kernelspec": {
   "display_name": "Python 3 (ipykernel)",
   "language": "python",
   "name": "python3"
  },
  "language_info": {
   "codemirror_mode": {
    "name": "ipython",
    "version": 3
   },
   "file_extension": ".py",
   "mimetype": "text/x-python",
   "name": "python",
   "nbconvert_exporter": "python",
   "pygments_lexer": "ipython3",
   "version": "3.10.12"
  }
 },
 "nbformat": 4,
 "nbformat_minor": 5
}
