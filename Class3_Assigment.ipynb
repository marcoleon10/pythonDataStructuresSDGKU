{
 "cells": [
  {
   "cell_type": "code",
   "execution_count": 1,
   "id": "6e6c26d0-6b26-46dc-9b84-e989bc94bc5d",
   "metadata": {},
   "outputs": [],
   "source": [
    "#Create the implementation of a Queue and a Stack"
   ]
  },
  {
   "cell_type": "code",
   "execution_count": 13,
   "id": "103d1ebb-ee0a-455b-91d0-33e23db145d0",
   "metadata": {},
   "outputs": [],
   "source": [
    "class Queue:\n",
    "    def __init__(self):\n",
    "        self.front = None\n",
    "        self.back = None\n",
    "\n",
    "    class __Node:\n",
    "        def __init__(self, data):\n",
    "            self.data = data\n",
    "            self.next = None\n",
    "\n",
    "    def enqueue(self, value):\n",
    "        new_node = self.__Node(value)\n",
    "        if self.back is None:\n",
    "            self.front = new_node\n",
    "            self.back = new_node\n",
    "        else:\n",
    "            self.back.next = new_node\n",
    "            self.back = new_node\n",
    "\n",
    "    def dequeue(self):\n",
    "        if self.front is not None:\n",
    "            datum = self.front.data\n",
    "            self.front = self.front.next\n",
    "            if self.front is None:\n",
    "                self.back = None\n",
    "            return datum\n",
    "        raise IndexError('Queue is empty')\n",
    "\n",
    "    def is_empty(self):\n",
    "        return self.front is None\n"
   ]
  },
  {
   "cell_type": "code",
   "execution_count": 16,
   "id": "b4076811-fb04-434c-9dcf-1c0e3b469927",
   "metadata": {},
   "outputs": [
    {
     "name": "stdout",
     "output_type": "stream",
     "text": [
      "¿Está vacía la cola? True\n",
      "Fuera de la cola: 10\n",
      "Fuera de la cola: 20\n",
      "Fuera de la cola: 30\n"
     ]
    }
   ],
   "source": [
    "q = Queue()\n",
    "print(\"¿Está vacía la cola?\", q.is_empty())  # Debería ser True\n",
    "\n",
    "q.enqueue(10)\n",
    "q.enqueue(20)\n",
    "q.enqueue(30)\n",
    "\n",
    "print(\"Fuera de la cola:\", q.dequeue())  # Debería mostrar 10\n",
    "print(\"Fuera de la cola:\", q.dequeue())  # Debería mostrar 20\n",
    "print(\"Fuera de la cola:\", q.dequeue())  # Debería mostrar 30\n"
   ]
  },
  {
   "cell_type": "code",
   "execution_count": 18,
   "id": "57197589-463d-4eaa-8032-b29bd967df20",
   "metadata": {},
   "outputs": [],
   "source": [
    "class Stack:\n",
    "    def __init__(self):\n",
    "        self.top = None\n",
    "\n",
    "    class __Node:\n",
    "        def __init__(self, data):\n",
    "            self.data = data\n",
    "            self.below = None\n",
    "            \n",
    "    def push(self, value):\n",
    "        new_node = self.__Node(value)\n",
    "        if not self.top:\n",
    "            self.top = new_node\n",
    "        else:\n",
    "            old_top = self.top\n",
    "            self.top = new_node\n",
    "            self.top.below = old_top\n",
    "            \n",
    "    def pop(self):\n",
    "        if self.top:\n",
    "            datum = self.top.data\n",
    "            self.top = solf.top.below\n",
    "            return datum\n",
    "        raise IndexError(\"Stack is empty\")\n",
    "\n",
    "    def peek(self):\n",
    "        if self.top:\n",
    "            return self.top.data\n",
    "        raise IndexError(\"Stack is empty\")\n",
    "        \n",
    "    def size(self):\n",
    "        current = self.top\n",
    "        count = 0\n",
    "        if current:\n",
    "            while current:\n",
    "                count += 1\n",
    "                current = current.below\n",
    "        return count\n",
    "        \n",
    "    def is_empty(self):\n",
    "        return self.top == None"
   ]
  },
  {
   "cell_type": "code",
   "execution_count": 19,
   "id": "32758807-378e-42db-a589-8b178a72fd92",
   "metadata": {},
   "outputs": [
    {
     "ename": "NameError",
     "evalue": "name 'solf' is not defined",
     "output_type": "error",
     "traceback": [
      "\u001b[0;31m---------------------------------------------------------------------------\u001b[0m",
      "\u001b[0;31mNameError\u001b[0m                                 Traceback (most recent call last)",
      "Cell \u001b[0;32mIn[19], line 6\u001b[0m\n\u001b[1;32m      3\u001b[0m s\u001b[38;5;241m.\u001b[39mpush(\u001b[38;5;241m10\u001b[39m)\n\u001b[1;32m      4\u001b[0m s\u001b[38;5;241m.\u001b[39mpush(\u001b[38;5;241m50\u001b[39m)\n\u001b[0;32m----> 6\u001b[0m \u001b[38;5;28mprint\u001b[39m(\u001b[38;5;124m\"\u001b[39m\u001b[38;5;124mPop: \u001b[39m\u001b[38;5;124m\"\u001b[39m, \u001b[43ms\u001b[49m\u001b[38;5;241;43m.\u001b[39;49m\u001b[43mpop\u001b[49m\u001b[43m(\u001b[49m\u001b[43m)\u001b[49m) \u001b[38;5;66;03m#Debería salir 50\u001b[39;00m\n\u001b[1;32m      7\u001b[0m \u001b[38;5;28mprint\u001b[39m(\u001b[38;5;124m\"\u001b[39m\u001b[38;5;124mPop: \u001b[39m\u001b[38;5;124m\"\u001b[39m, s\u001b[38;5;241m.\u001b[39mpop()) \u001b[38;5;66;03m#Debería salir 10\u001b[39;00m\n",
      "Cell \u001b[0;32mIn[18], line 22\u001b[0m, in \u001b[0;36mStack.pop\u001b[0;34m(self)\u001b[0m\n\u001b[1;32m     20\u001b[0m \u001b[38;5;28;01mif\u001b[39;00m \u001b[38;5;28mself\u001b[39m\u001b[38;5;241m.\u001b[39mtop:\n\u001b[1;32m     21\u001b[0m     datum \u001b[38;5;241m=\u001b[39m \u001b[38;5;28mself\u001b[39m\u001b[38;5;241m.\u001b[39mtop\u001b[38;5;241m.\u001b[39mdata\n\u001b[0;32m---> 22\u001b[0m     \u001b[38;5;28mself\u001b[39m\u001b[38;5;241m.\u001b[39mtop \u001b[38;5;241m=\u001b[39m \u001b[43msolf\u001b[49m\u001b[38;5;241m.\u001b[39mtop\u001b[38;5;241m.\u001b[39mbelow\n\u001b[1;32m     23\u001b[0m     \u001b[38;5;28;01mreturn\u001b[39;00m datum\n\u001b[1;32m     24\u001b[0m \u001b[38;5;28;01mraise\u001b[39;00m \u001b[38;5;167;01mIndexError\u001b[39;00m(\u001b[38;5;124m\"\u001b[39m\u001b[38;5;124mStack is empty\u001b[39m\u001b[38;5;124m\"\u001b[39m)\n",
      "\u001b[0;31mNameError\u001b[0m: name 'solf' is not defined"
     ]
    }
   ],
   "source": [
    "s = Stack()\n",
    "\n",
    "s.push(10)\n",
    "s.push(50)\n",
    "\n",
    "print(\"Pop: \", s.pop()) #Debería salir 50\n",
    "print(\"Pop: \", s.pop()) #Debería salir 10"
   ]
  },
  {
   "cell_type": "code",
   "execution_count": null,
   "id": "793f6acf-bae4-4581-8e78-5f277acdb7c3",
   "metadata": {},
   "outputs": [],
   "source": []
  }
 ],
 "metadata": {
  "kernelspec": {
   "display_name": "Python 3 (ipykernel)",
   "language": "python",
   "name": "python3"
  },
  "language_info": {
   "codemirror_mode": {
    "name": "ipython",
    "version": 3
   },
   "file_extension": ".py",
   "mimetype": "text/x-python",
   "name": "python",
   "nbconvert_exporter": "python",
   "pygments_lexer": "ipython3",
   "version": "3.10.12"
  }
 },
 "nbformat": 4,
 "nbformat_minor": 5
}
