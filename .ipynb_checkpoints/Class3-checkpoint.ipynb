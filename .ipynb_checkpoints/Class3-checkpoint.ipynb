{
 "cells": [
  {
   "cell_type": "code",
   "execution_count": 1,
   "id": "45898613-c44d-4956-8fc2-1699561fabc9",
   "metadata": {},
   "outputs": [],
   "source": [
    "#Simplified implementation of a Queue (using bult-ins)\n",
    "\n",
    "class Queue:\n",
    "    def __init__(self):\n",
    "        self.items = []\n",
    "\n",
    "    def enqueue(self, value):\n",
    "        self.items.insert(0, value)\n",
    "\n",
    "    def dequeue(self):\n",
    "        return self.items.pop()\n",
    "\n",
    "    #Nice to have methods:\n",
    "    def size(self):\n",
    "        return len(self.items)\n",
    "\n",
    "    def peek(self):\n",
    "        return self.items[len(self.items)-1]\n",
    "\n",
    "    def is_empty(self):\n",
    "        return self.items == []\n"
   ]
  },
  {
   "cell_type": "code",
   "execution_count": 2,
   "id": "441e52e6-cefc-46a8-aae9-9aeb2f964b90",
   "metadata": {},
   "outputs": [],
   "source": [
    "#Problem 4:\n",
    "\n",
    "##Create a \"from scratch\" implementation of Queue, incluiding, at a minimim \"enqueue\" and \"dequeue\" as its methods\n",
    "\n",
    "###Your class should be named QueueII"
   ]
  },
  {
   "cell_type": "code",
   "execution_count": 4,
   "id": "65489a6e-978c-4f90-bc0b-a9b152ac01d1",
   "metadata": {
    "scrolled": true
   },
   "outputs": [
    {
     "data": {
      "text/plain": [
       "'\\ndefine my class Node:\\n    define attribute data with initial value None\\n    define attribute next with initial value None\\n    \\ndefine my class QueueII:\\n    define attribute front with initial value None\\n    define attribute rear with initial value None\\n\\ndefine enqueue method with a parameter \"value\":\\n    new_node = new instance of Node with \"data\" set to \"value\"\\n    if my queue is empty:\\n        update self.front to point to new_node\\n        update self.rear to point to new_node\\n    otherwise: #the queue is not empty\\n        self.rear.next = new_node\\n        self.rear = new_node\\n\\ndefine dequeue method:\\n    if the self.front reference is not pointing to None #this means there are nodes in the queue\\n        datum = the data element stored at the front node\\n        self.front = the next node in line\\n        return datum\\n    otherwise:\\n        display an error because the queue is empty\\n'"
      ]
     },
     "execution_count": 4,
     "metadata": {},
     "output_type": "execute_result"
    }
   ],
   "source": [
    "'''\n",
    "define my class Noe:\n",
    "    define attribute data with initial value None\n",
    "    define attribute next with initial value None\n",
    "    \n",
    "define my class QueueII:\n",
    "    define attribute front with initial value None\n",
    "    define attribute rear with initial value None\n",
    "\n",
    "define enqueue method with a parameter \"value\":\n",
    "    new_node = new instance of Node with \"data\" set to \"value\"\n",
    "    if my queue is empty:\n",
    "        update self.front to point to new_node\n",
    "        update self.rear to point to new_node\n",
    "    otherwise: #the queue is not empty\n",
    "        self.rear.next = new_node\n",
    "        self.rear = new_node\n",
    "\n",
    "define dequeue method:\n",
    "    if the self.front reference is not pointing to None #this means there are nodes in the queue\n",
    "        datum = the data element stored at the front node\n",
    "        self.front = the next node in line\n",
    "        return datum\n",
    "    otherwise:\n",
    "        display an error because the queue is empty\n",
    "'''"
   ]
  },
  {
   "cell_type": "code",
   "execution_count": null,
   "id": "e34e6c11-7118-46d4-a605-d388095a5a2e",
   "metadata": {},
   "outputs": [],
   "source": [
    "class QueueII:\n",
    "    def __init__(self):\n",
    "        self.front = None\n",
    "        self.back = None\n",
    "\n",
    "    class __Node:\n",
    "        def __init__(self, data):\n",
    "            self.data = data\n",
    "            self.next = None\n",
    "\n",
    "    def enqueue(self, value):\n",
    "        new_node = self.__Node(value)\n",
    "        if self.back is None:\n",
    "            self.front = new_node\n",
    "            self.back = new_node\n",
    "        else:\n",
    "            self.back.next = new_node\n",
    "            self.back = new_node\n",
    "\n",
    "    def dequeue(self):\n",
    "        if self.front is not None:\n",
    "            datum = self.front.data\n",
    "            self.front = self.front.next\n",
    "            if self.front is None:\n",
    "                self.back = None\n",
    "            return datum\n",
    "        raise IndexError('Queue is empty')\n",
    "\n",
    "    def is_empty(self):\n",
    "        return self.front is None"
   ]
  },
  {
   "cell_type": "code",
   "execution_count": 5,
   "id": "a799a735-6f79-4a6b-b600-98d05e667cd6",
   "metadata": {},
   "outputs": [],
   "source": [
    "#RECURSIVE FUNCTION"
   ]
  },
  {
   "cell_type": "code",
   "execution_count": 6,
   "id": "ad79c803-20eb-4db4-bf6b-632377edcfc2",
   "metadata": {},
   "outputs": [],
   "source": [
    "#A recursive function is one that calls itself at least once within it's code\n",
    "\n",
    "# A very simple example:\n",
    "# The factorial function\n",
    "\n",
    "def factorial(n):\n",
    "    if n == 0:\n",
    "        return 1\n",
    "    return n*factorial(n-1)\n",
    "\n",
    "#5! = 5x4x3x2x1\n",
    "#0! = 1"
   ]
  },
  {
   "cell_type": "code",
   "execution_count": 7,
   "id": "558efdcf-49cb-4851-99f1-e5bc96579758",
   "metadata": {},
   "outputs": [
    {
     "data": {
      "text/plain": [
       "7896325826131730509282738943634332893686268675876375"
      ]
     },
     "execution_count": 7,
     "metadata": {},
     "output_type": "execute_result"
    }
   ],
   "source": [
    "# Fibonacci function\n",
    "\n",
    "# F0 = 0; F = 1\n",
    "# Fn = Fn-1 + Fn-2\n",
    "# 0, 1, 1, 2, 3, 5, 8, 13, 21...\n",
    "\n",
    "from functools import lru_cache\n",
    "\n",
    "@lru_cache\n",
    "def fib(n):\n",
    "    if n < 2:\n",
    "        return n\n",
    "    return fib(n-1) + fib(n-2)\n",
    "\n",
    "fib(250)"
   ]
  },
  {
   "cell_type": "code",
   "execution_count": null,
   "id": "f748a6ea-1d06-4530-a604-409ff128702f",
   "metadata": {},
   "outputs": [],
   "source": []
  }
 ],
 "metadata": {
  "kernelspec": {
   "display_name": "Python 3 (ipykernel)",
   "language": "python",
   "name": "python3"
  },
  "language_info": {
   "codemirror_mode": {
    "name": "ipython",
    "version": 3
   },
   "file_extension": ".py",
   "mimetype": "text/x-python",
   "name": "python",
   "nbconvert_exporter": "python",
   "pygments_lexer": "ipython3",
   "version": "3.10.12"
  }
 },
 "nbformat": 4,
 "nbformat_minor": 5
}
