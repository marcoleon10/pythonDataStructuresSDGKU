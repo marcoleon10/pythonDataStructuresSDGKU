{
 "cells": [
  {
   "cell_type": "code",
   "execution_count": 13,
   "id": "70570572-7d2d-48ef-8861-6998b5d899f4",
   "metadata": {},
   "outputs": [],
   "source": [
    "\n",
    "class Stack:\n",
    "    def __init__(self):\n",
    "        self.items = []\n",
    "\n",
    "    def push(self, item):\n",
    "        self.items.append(item)\n",
    "\n",
    "    def pop(self):\n",
    "        return self.items.pop()\n",
    "\n",
    "    def peek(self):\n",
    "        return self.items[-1] if not self.is_empty() else None\n",
    "\n",
    "    def is_empty(self):\n",
    "        return len(self.items) == 0\n",
    "\n",
    "\n",
    "def check_palindrome(word1,word2): ##accidentally I made the algorithm of finding a pair of palindrome haha\n",
    "\n",
    "    if(len(word1) != len(word2)):\n",
    "        return False\n",
    "        \n",
    "    stack = Stack()\n",
    "    for c in word1:\n",
    "        if(c != \" \"):\n",
    "            stack.push(c.lower())\n",
    "\n",
    "    for c in word2:\n",
    "        if(stack.peek() != c):\n",
    "            return False\n",
    "        else:\n",
    "            stack.pop()\n",
    "    return True\n",
    "\n",
    "def check_anagram(word1, word2):\n",
    "    if(len(word1) != len(word2)):\n",
    "        return False\n",
    "\n",
    "    \n",
    "        "
   ]
  },
  {
   "cell_type": "code",
   "execution_count": 14,
   "id": "13a7c56f-bcca-45fe-9952-2cff12e15dcd",
   "metadata": {},
   "outputs": [
    {
     "name": "stdout",
     "output_type": "stream",
     "text": [
      "False\n"
     ]
    }
   ],
   "source": [
    "print(check_palindrome(\"earth\",\"heart\"))"
   ]
  },
  {
   "cell_type": "code",
   "execution_count": 15,
   "id": "636f218d-5406-45a2-9160-ac9f08425ec4",
   "metadata": {},
   "outputs": [
    {
     "data": {
      "text/plain": [
       "\"\\ndefine my function anagram_check which receives parameters str1 and str2:\\n    # First thing I need to do is level the playing field and remove spaces\\n    str1 = str1 without spaces\\n    str2 = str2 without spaces\\n    str1 = str1 in lower case\\n    str2 = str2 in lower ase\\n    if the lenght of str1 is not equal to the length of str2:\\n        return Flase\\n    otherwise:\\n        #I would like to track which letter I've seen and how many time \\n        dict_1 = new dictionary\\n        dict_2 = new dictionary\\n        for each number in the range from 0 to the length of str1:\\n            add 1 to the total number of times I've seen that letter\\n        otherwise:\\n            create a new entrey in dict_1 with that letter and the value set to 1\\n        if the letter at position 0 in str2 is in dict_2:\\n            add 1 to the total number of times I've seen that letter\\n        otherwise:\\n            create a new entrey in dict_2 with that letter and the value set to 1\\n    return dict1 == dict2\\n\""
      ]
     },
     "execution_count": 15,
     "metadata": {},
     "output_type": "execute_result"
    }
   ],
   "source": [
    "# Pseudocode for anagram check function\n",
    "\n",
    "'''\n",
    "define my function anagram_check which receives parameters str1 and str2:\n",
    "    # First thing I need to do is level the playing field and remove spaces\n",
    "    str1 = str1 without spaces\n",
    "    str2 = str2 without spaces\n",
    "    str1 = str1 in lower case\n",
    "    str2 = str2 in lower ase\n",
    "    if the lenght of str1 is not equal to the length of str2:\n",
    "        return Flase\n",
    "    otherwise:\n",
    "        #I would like to track which letter I've seen and how many time \n",
    "        dict_1 = new dictionary\n",
    "        dict_2 = new dictionary\n",
    "        for each number in the range from 0 to the length of str1:\n",
    "            add 1 to the total number of times I've seen that letter\n",
    "        otherwise:\n",
    "            create a new entrey in dict_1 with that letter and the value set to 1\n",
    "        if the letter at position 0 in str2 is in dict_2:\n",
    "            add 1 to the total number of times I've seen that letter\n",
    "        otherwise:\n",
    "            create a new entrey in dict_2 with that letter and the value set to 1\n",
    "    return dict1 == dict2\n",
    "'''"
   ]
  },
  {
   "cell_type": "code",
   "execution_count": null,
   "id": "89179d5d-e69c-45e0-b55c-d3dabc49fce5",
   "metadata": {},
   "outputs": [],
   "source": []
  }
 ],
 "metadata": {
  "kernelspec": {
   "display_name": "Python 3 (ipykernel)",
   "language": "python",
   "name": "python3"
  },
  "language_info": {
   "codemirror_mode": {
    "name": "ipython",
    "version": 3
   },
   "file_extension": ".py",
   "mimetype": "text/x-python",
   "name": "python",
   "nbconvert_exporter": "python",
   "pygments_lexer": "ipython3",
   "version": "3.10.12"
  }
 },
 "nbformat": 4,
 "nbformat_minor": 5
}
